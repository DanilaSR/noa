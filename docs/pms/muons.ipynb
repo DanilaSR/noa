{
 "cells": [
  {
   "cell_type": "markdown",
   "id": "4bedecd3",
   "metadata": {},
   "source": [
    "# Muon transport\n",
    "#### Roland Grinis  -  Researcher at MIPT Nuclear Physics Methods lab  -  CTO at GrinisRIT (grinisrit.com)"
   ]
  },
  {
   "cell_type": "markdown",
   "id": "f6321405",
   "metadata": {},
   "source": [
    "Code available within NOA github.com/grinisrit/noa - Bayesian computation algorithms in C++17 over LibTorch"
   ]
  },
  {
   "cell_type": "markdown",
   "id": "bf305257",
   "metadata": {},
   "source": [
    "## Installation\n",
    "\n",
    "The `conda` environment provided with the repository has all the required dependencies. For this particular tutorial we will need the following `python` packages:"
   ]
  },
  {
   "cell_type": "code",
   "execution_count": 1,
   "id": "a8c7576f",
   "metadata": {},
   "outputs": [],
   "source": [
    "import torch\n",
    "from torch.utils.cpp_extension import load"
   ]
  },
  {
   "cell_type": "markdown",
   "id": "0f872e4b",
   "metadata": {},
   "source": [
    "Now we need to build and load `C++17/CUDA` extensions for `PyTorch`, set up the locations:"
   ]
  },
  {
   "cell_type": "code",
   "execution_count": 3,
   "id": "7339ccd7",
   "metadata": {},
   "outputs": [],
   "source": [
    "!mkdir -p build\n",
    "noa_location = '../..'"
   ]
  },
  {
   "cell_type": "markdown",
   "id": "e3474263",
   "metadata": {},
   "source": [
    "If you are running this on Google Colab, you need to clone `NOA` and set `noa_location` accordingly:\n",
    "```python\n",
    "!git clone https://github.com/grinisrit/noa.git\n",
    "noa_location = 'noa'\n",
    "```\n",
    "\n",
    "Also, make sure that `ninja` and `g++-8` or higher are available. The following commands will do that for you:\n",
    "```python\n",
    "!pip install Ninja\n",
    "!apt install gcc-8 g++-8 -y\n",
    "!update-alternatives --install /usr/bin/gcc gcc /usr/bin/gcc-8 1000\n",
    "!update-alternatives --install /usr/bin/g++ g++ /usr/bin/g++-8 1000\n",
    "!gcc --version\n",
    "!g++ --version\n",
    "!nvcc --version\n",
    "```\n",
    "Finally, you get the extensions into `python` by calling `load`:"
   ]
  },
  {
   "cell_type": "code",
   "execution_count": 5,
   "id": "8c646a2b",
   "metadata": {},
   "outputs": [],
   "source": [
    "muons = load(name='muons',\n",
    "             build_directory='./build',\n",
    "             sources=[f'{noa_location}/docs/pms/muons.cc'],\n",
    "             extra_include_paths=[f'{noa_location}/include'],\n",
    "             extra_cflags=['-Wall -Wextra -Wpedantic -O3 -std=c++17'],\n",
    "             extra_ldflags=['-lstdc++fs'],\n",
    "             verbose=False)"
   ]
  },
  {
   "cell_type": "code",
   "execution_count": 6,
   "id": "2328bbdc",
   "metadata": {},
   "outputs": [],
   "source": [
    "muons_cuda = load(name='muons_cuda',\n",
    "             build_directory='./build',       \n",
    "             sources=[f'{noa_location}/docs/pms/muons.cu'],\n",
    "             extra_include_paths=[f'{noa_location}/include'],\n",
    "             extra_cflags=['-Wall -Wextra -Wpedantic -O3 -std=c++17'],\n",
    "             extra_cuda_cflags=['-std=c++17 --extended-lambda'],\n",
    "             extra_ldflags=['-lstdc++fs'],\n",
    "             verbose=False) if torch.cuda.is_available() else None"
   ]
  },
  {
   "cell_type": "markdown",
   "id": "56dd8394",
   "metadata": {},
   "source": [
    "## Differential Cross-Sections calculations\n",
    "\n",
    "Differential cross-sections are implemented in `<noa/pms/dcs.hh>` for `CPU` and `<noa/pms/dcs.cuh>` for `CUDA`. Here, we demonstrate the calculations for muons passing through the standard rock. In `<noa/pms/constants.hh>` you will find:\n",
    "```cpp\n",
    "constexpr ParticleMass MUON_MASS = 0.10565839;     // GeV/c^2\n",
    "\n",
    "constexpr AtomicElement<Scalar> STANDARD_ROCK =\n",
    "            AtomicElement<Scalar>{\n",
    "                    22.,       // Atomic mass in g/mol\n",
    "                    0.1364E-6, // Mean Excitation in GeV\n",
    "                    11 // Atomic number\n",
    "    };\n",
    "```\n",
    "\n",
    "Let's get a range of kinetic and recoil energies:"
   ]
  },
  {
   "cell_type": "code",
   "execution_count": 7,
   "id": "52324801",
   "metadata": {},
   "outputs": [],
   "source": [
    "kinetic_energies = torch.linspace(1e-3, 1e6, 10000).double()\n",
    "recoil_energies = 0.0505 * kinetic_energies"
   ]
  },
  {
   "cell_type": "code",
   "execution_count": 8,
   "id": "126f1ed4",
   "metadata": {},
   "outputs": [],
   "source": [
    "kinetic_energies_gpu = kinetic_energies.cuda()\n",
    "recoil_energies_gpu = recoil_energies.cuda()"
   ]
  },
  {
   "cell_type": "code",
   "execution_count": 9,
   "id": "fd928905",
   "metadata": {},
   "outputs": [
    {
     "data": {
      "text/plain": [
       "tensor([ 999599.9375,  999700.0000,  999800.0000,  999900.0000, 1000000.0000],\n",
       "       device='cuda:0', dtype=torch.float64)"
      ]
     },
     "execution_count": 9,
     "metadata": {},
     "output_type": "execute_result"
    }
   ],
   "source": [
    "kinetic_energies_gpu[-5:]"
   ]
  },
  {
   "cell_type": "markdown",
   "id": "e5d4fdf7",
   "metadata": {},
   "source": [
    "```cpp\n",
    "#include <noa/utils/common.hh>\n",
    "#include <noa/pms/constants.hh>\n",
    "#include <noa/pms/dcs.hh>\n",
    "\n",
    "using namespace noa::pms;\n",
    "using namespace noa::utils;\n",
    "\n",
    "inline Tensor bremsstrahlung(Tensor kinetic_energies, Tensor recoil_energies) {\n",
    "    const auto result = torch::zeros_like(kinetic_energies);\n",
    "    dcs::vmap<Scalar>(dcs::pumas::bremsstrahlung)(\n",
    "            result, kinetic_energies, recoil_energies, STANDARD_ROCK, MUON_MASS);\n",
    "    return result;\n",
    "}\n",
    "```"
   ]
  },
  {
   "cell_type": "code",
   "execution_count": 26,
   "id": "f13096c8",
   "metadata": {},
   "outputs": [
    {
     "data": {
      "text/plain": [
       "tensor([3.5293e-04, 3.9395e-06, 4.0777e-06, 4.1341e-06, 4.1650e-06],\n",
       "       dtype=torch.float64)"
      ]
     },
     "execution_count": 26,
     "metadata": {},
     "output_type": "execute_result"
    }
   ],
   "source": [
    "brems = muons.bremsstrahlung(kinetic_energies, recoil_energies)\n",
    "brems[:5]"
   ]
  },
  {
   "cell_type": "markdown",
   "id": "41884189",
   "metadata": {},
   "source": [
    "```cpp\n",
    "#include <noa/pms/kernels.cuh>\n",
    "#include <noa/pms/constants.hh>\n",
    "\n",
    "using namespace noa::pms;\n",
    "using namespace noa::utils;\n",
    "\n",
    "inline torch::Tensor bremsstrahlung(torch::Tensor kinetic_energies, torch::Tensor recoil_energies) {\n",
    "    const auto result = torch::zeros_like(kinetic_energies);\n",
    "    dcs::pumas::cuda::vmap_bremsstrahlung(result, kinetic_energies, recoil_energies, STANDARD_ROCK, MUON_MASS);\n",
    "    return result;\n",
    "}\n",
    "```"
   ]
  },
  {
   "cell_type": "code",
   "execution_count": 25,
   "id": "1039c8d9",
   "metadata": {},
   "outputs": [
    {
     "data": {
      "text/plain": [
       "tensor([3.5293e-04, 3.9395e-06, 4.0777e-06, 4.1341e-06, 4.1650e-06],\n",
       "       device='cuda:0', dtype=torch.float64)"
      ]
     },
     "execution_count": 25,
     "metadata": {},
     "output_type": "execute_result"
    }
   ],
   "source": [
    "brems_gpu = muons_cuda.bremsstrahlung(kinetic_energies_gpu, recoil_energies_gpu);\n",
    "brems_gpu[:5]"
   ]
  },
  {
   "cell_type": "code",
   "execution_count": 13,
   "id": "4a847507",
   "metadata": {},
   "outputs": [
    {
     "data": {
      "text/plain": [
       "tensor(3.2179e-18, dtype=torch.float64)"
      ]
     },
     "execution_count": 13,
     "metadata": {},
     "output_type": "execute_result"
    }
   ],
   "source": [
    "(brems - brems_gpu.cpu()).abs().sum()"
   ]
  },
  {
   "cell_type": "code",
   "execution_count": 14,
   "id": "8845ef06",
   "metadata": {},
   "outputs": [
    {
     "name": "stdout",
     "output_type": "stream",
     "text": [
      "155 µs ± 1.12 µs per loop (mean ± std. dev. of 7 runs, 10000 loops each)\n"
     ]
    }
   ],
   "source": [
    "%timeit muons_cuda.bremsstrahlung(kinetic_energies_gpu, recoil_energies_gpu);"
   ]
  },
  {
   "cell_type": "code",
   "execution_count": 15,
   "id": "8e479242",
   "metadata": {},
   "outputs": [
    {
     "name": "stdout",
     "output_type": "stream",
     "text": [
      "308 µs ± 1.89 µs per loop (mean ± std. dev. of 7 runs, 1000 loops each)\n"
     ]
    }
   ],
   "source": [
    "%timeit muons.bremsstrahlung(kinetic_energies, recoil_energies);"
   ]
  },
  {
   "cell_type": "markdown",
   "id": "44f85eec",
   "metadata": {},
   "source": [
    "```cpp\n",
    "dcs::vmap<Scalar>(dcs::pumas::pair_production)(\n",
    "            result, kinetic_energies, recoil_energies, STANDARD_ROCK, MUON_MASS);\n",
    "```"
   ]
  },
  {
   "cell_type": "code",
   "execution_count": 22,
   "id": "f84559a0",
   "metadata": {},
   "outputs": [
    {
     "data": {
      "text/plain": [
       "tensor([0.0000e+00, 6.5366e-06, 7.3699e-06, 7.7919e-06, 8.0572e-06],\n",
       "       dtype=torch.float64)"
      ]
     },
     "execution_count": 22,
     "metadata": {},
     "output_type": "execute_result"
    }
   ],
   "source": [
    "ppair = muons.pair_production(kinetic_energies, recoil_energies)\n",
    "ppair[:5]"
   ]
  },
  {
   "cell_type": "markdown",
   "id": "42886107",
   "metadata": {},
   "source": [
    "```cpp\n",
    "dcs::vmap<Scalar>(dcs::pumas::photonuclear)(\n",
    "            result, kinetic_energies, recoil_energies, STANDARD_ROCK, MUON_MASS);\n",
    "```"
   ]
  },
  {
   "cell_type": "code",
   "execution_count": 21,
   "id": "0292de00",
   "metadata": {},
   "outputs": [
    {
     "data": {
      "text/plain": [
       "tensor([0.0000e+00, 2.2912e-06, 2.1304e-06, 2.0719e-06, 2.0427e-06],\n",
       "       dtype=torch.float64)"
      ]
     },
     "execution_count": 21,
     "metadata": {},
     "output_type": "execute_result"
    }
   ],
   "source": [
    "photonuc = muons.photonuclear(kinetic_energies, recoil_energies)\n",
    "photonuc[:5]"
   ]
  },
  {
   "cell_type": "markdown",
   "id": "384d05c8",
   "metadata": {},
   "source": [
    "```cpp\n",
    "dcs::vmap<Scalar>(dcs::pumas::ionisation)(\n",
    "            result, kinetic_energies, recoil_energies, STANDARD_ROCK, MUON_MASS);\n",
    "```"
   ]
  },
  {
   "cell_type": "code",
   "execution_count": 20,
   "id": "a78920e1",
   "metadata": {},
   "outputs": [
    {
     "data": {
      "text/plain": [
       "tensor([0.0000e+00, 3.0168e-05, 1.5300e-05, 1.0284e-05, 7.7575e-06],\n",
       "       dtype=torch.float64)"
      ]
     },
     "execution_count": 20,
     "metadata": {},
     "output_type": "execute_result"
    }
   ],
   "source": [
    "ionis = muons.ionisation(kinetic_energies, recoil_energies)\n",
    "ionis[:5]"
   ]
  }
 ],
 "metadata": {
  "kernelspec": {
   "display_name": "Python 3",
   "language": "python",
   "name": "python3"
  },
  "language_info": {
   "codemirror_mode": {
    "name": "ipython",
    "version": 3
   },
   "file_extension": ".py",
   "mimetype": "text/x-python",
   "name": "python",
   "nbconvert_exporter": "python",
   "pygments_lexer": "ipython3",
   "version": "3.9.5"
  }
 },
 "nbformat": 4,
 "nbformat_minor": 5
}
