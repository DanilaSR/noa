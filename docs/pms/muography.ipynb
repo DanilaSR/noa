{
 "cells": [
  {
   "cell_type": "markdown",
   "id": "4bedecd3",
   "metadata": {},
   "source": [
    "# Muography\n",
    "#### Roland Grinis  -  Researcher at MIPT Nuclear Physics Methods lab  -  CTO at GrinisRIT (grinisrit.com)"
   ]
  },
  {
   "cell_type": "markdown",
   "id": "f6321405",
   "metadata": {},
   "source": [
    "Code available within `NOA` [github.com/grinisrit/noa](https://github.com/grinisrit/noa) - Non-linear Optimisation Algorithms in `C++17` over [LibTorch](https://pytorch.org/cppdocs)"
   ]
  },
  {
   "cell_type": "markdown",
   "id": "bf305257",
   "metadata": {},
   "source": [
    "## Installation\n",
    "\n",
    "The `conda` environment provided with the repository has all the required dependencies. For this particular tutorial we will need the following `python` packages:"
   ]
  },
  {
   "cell_type": "code",
   "execution_count": 1,
   "id": "a8c7576f",
   "metadata": {},
   "outputs": [],
   "source": [
    "import torch\n",
    "from torch.utils.cpp_extension import load"
   ]
  },
  {
   "cell_type": "markdown",
   "id": "0f872e4b",
   "metadata": {},
   "source": [
    "Now we need to build and load `C++17/CUDA` extensions for `PyTorch`, set up the locations:"
   ]
  },
  {
   "cell_type": "code",
   "execution_count": 2,
   "id": "7339ccd7",
   "metadata": {},
   "outputs": [],
   "source": [
    "!mkdir -p build\n",
    "noa_location = '../..'"
   ]
  },
  {
   "cell_type": "markdown",
   "id": "e3474263",
   "metadata": {},
   "source": [
    "If you are running this on Google Colab, you need to clone `NOA` and set `noa_location` accordingly:\n",
    "```python\n",
    "!git clone https://github.com/grinisrit/noa.git\n",
    "noa_location = 'noa'\n",
    "```\n",
    "\n",
    "Also, make sure that `ninja` and `g++-9` or higher are available. The following commands will do that for you:\n",
    "```python\n",
    "!pip install Ninja\n",
    "!add-apt-repository ppa:ubuntu-toolchain-r/test -y\n",
    "!apt update\n",
    "!apt install gcc-9 g++-9\n",
    "!update-alternatives --install /usr/bin/gcc gcc /usr/bin/gcc-9 100 --slave /usr/bin/g++ g++ /usr/bin/g++-9\n",
    "!gcc --version\n",
    "!g++ --version\n",
    "!nvcc --version\n",
    "```\n",
    "Finally, you get the extensions into `python` by calling `load`:"
   ]
  },
  {
   "cell_type": "code",
   "execution_count": 3,
   "id": "8c646a2b",
   "metadata": {},
   "outputs": [],
   "source": [
    "muons = load(name='muons',\n",
    "             build_directory='./build',\n",
    "             sources=[f'{noa_location}/docs/pms/muons.cc'],\n",
    "             extra_include_paths=[f'{noa_location}/include'],\n",
    "             extra_cflags=['-Wall -Wextra -Wpedantic -O3 -std=c++17'],\n",
    "             verbose=False)"
   ]
  },
  {
   "cell_type": "code",
   "execution_count": 4,
   "id": "2328bbdc",
   "metadata": {},
   "outputs": [],
   "source": [
    "muons_cuda = load(name='muons_cuda',\n",
    "             build_directory='./build',       \n",
    "             sources=[f'{noa_location}/docs/pms/muons.cu'],\n",
    "             extra_include_paths=[f'{noa_location}/include'],\n",
    "             extra_cflags=['-Wall -Wextra -Wpedantic -O3 -std=c++17'],\n",
    "             extra_cuda_cflags=['-std=c++17 --extended-lambda'],\n",
    "             verbose=False) if torch.cuda.is_available() else None"
   ]
  },
  {
   "cell_type": "markdown",
   "id": "56dd8394",
   "metadata": {},
   "source": [
    "## Differential Cross-Section calculations\n",
    "\n",
    "Differential cross-sections (DCS) are implemented in `<noa/pms/dcs.hh>` for `CPU` and `<noa/pms/dcs.cuh>` for `CUDA` within the namespace `noa::pms::dcs`.\n",
    "\n",
    "Here, we demonstrate the calculations for muons passing through the standard rock. In `<noa/pms/constants.hh>` you will find:\n",
    "```cpp\n",
    "constexpr ParticleMass MUON_MASS = 0.10565839;     // GeV/c^2\n",
    "\n",
    "constexpr AtomicElement<Scalar> STANDARD_ROCK =\n",
    "            AtomicElement<Scalar>{\n",
    "                    22.,       // Atomic mass in g/mol\n",
    "                    0.1364E-6, // Mean Excitation in GeV\n",
    "                    11 // Atomic number\n",
    "    };\n",
    "```\n",
    "\n",
    "Let's get a range of kinetic and recoil energies:"
   ]
  },
  {
   "cell_type": "code",
   "execution_count": 5,
   "id": "52324801",
   "metadata": {},
   "outputs": [],
   "source": [
    "kinetic_energies = torch.linspace(1e-3, 1e6, 10000).double()\n",
    "recoil_energies = 0.0505 * kinetic_energies"
   ]
  },
  {
   "cell_type": "code",
   "execution_count": 6,
   "id": "126f1ed4",
   "metadata": {},
   "outputs": [],
   "source": [
    "kinetic_energies_gpu = kinetic_energies.cuda()\n",
    "recoil_energies_gpu = recoil_energies.cuda()"
   ]
  },
  {
   "cell_type": "code",
   "execution_count": 7,
   "id": "fd928905",
   "metadata": {},
   "outputs": [
    {
     "data": {
      "text/plain": [
       "tensor([1.0000e-03, 1.0001e+02, 2.0002e+02, 3.0003e+02, 4.0004e+02],\n",
       "       device='cuda:0', dtype=torch.float64)"
      ]
     },
     "execution_count": 7,
     "metadata": {},
     "output_type": "execute_result"
    }
   ],
   "source": [
    "kinetic_energies_gpu[:5]"
   ]
  },
  {
   "cell_type": "markdown",
   "id": "61155b14",
   "metadata": {},
   "source": [
    "From now on, we shall get ourselves into the namespace:\n",
    "```cpp\n",
    "using namespace noa::pms;\n",
    "```\n",
    "On `CPU` the DCS computation kernel can be mapped on a tensor via the utility `dcs::vmap`. The user is expected to provide a `result` tensor with the same options as `kinetic_energies` which will get populated with the calculation values:\n",
    "```cpp\n",
    "const auto result = torch::zeros_like(kinetic_energies);\n",
    "```"
   ]
  },
  {
   "cell_type": "markdown",
   "id": "6c1964e9",
   "metadata": {},
   "source": [
    "### Bremsstrahlung\n",
    "\n",
    "For `CPU` we have:\n",
    "```cpp\n",
    "dcs::vmap(dcs::pumas::bremsstrahlung)(\n",
    "    result, kinetic_energies, recoil_energies, STANDARD_ROCK, MUON_MASS);\n",
    "```\n",
    "For `CUDA` we create the lambda function directly ourselves:\n",
    "```cpp\n",
    "dcs::pumas::cuda::vmap_bremsstrahlung(\n",
    "    result, kinetic_energies, recoil_energies, STANDARD_ROCK, MUON_MASS);\n",
    "```"
   ]
  },
  {
   "cell_type": "code",
   "execution_count": 8,
   "id": "f13096c8",
   "metadata": {},
   "outputs": [
    {
     "data": {
      "text/plain": [
       "tensor([3.5293e-04, 3.9395e-06, 4.0777e-06, 4.1341e-06, 4.1650e-06],\n",
       "       dtype=torch.float64)"
      ]
     },
     "execution_count": 8,
     "metadata": {},
     "output_type": "execute_result"
    }
   ],
   "source": [
    "brems = muons.bremsstrahlung(kinetic_energies, recoil_energies)\n",
    "brems[:5]"
   ]
  },
  {
   "cell_type": "code",
   "execution_count": 9,
   "id": "1039c8d9",
   "metadata": {},
   "outputs": [
    {
     "data": {
      "text/plain": [
       "tensor([3.5293e-04, 3.9395e-06, 4.0777e-06, 4.1341e-06, 4.1650e-06],\n",
       "       device='cuda:0', dtype=torch.float64)"
      ]
     },
     "execution_count": 9,
     "metadata": {},
     "output_type": "execute_result"
    }
   ],
   "source": [
    "brems_gpu = muons_cuda.bremsstrahlung(kinetic_energies_gpu, recoil_energies_gpu);\n",
    "brems_gpu[:5]"
   ]
  },
  {
   "cell_type": "code",
   "execution_count": 10,
   "id": "4a847507",
   "metadata": {},
   "outputs": [
    {
     "data": {
      "text/plain": [
       "tensor(3.2179e-18, dtype=torch.float64)"
      ]
     },
     "execution_count": 10,
     "metadata": {},
     "output_type": "execute_result"
    }
   ],
   "source": [
    "(brems - brems_gpu.cpu()).abs().sum()"
   ]
  },
  {
   "cell_type": "code",
   "execution_count": 11,
   "id": "8845ef06",
   "metadata": {},
   "outputs": [
    {
     "name": "stdout",
     "output_type": "stream",
     "text": [
      "157 µs ± 3.06 µs per loop (mean ± std. dev. of 7 runs, 10000 loops each)\n"
     ]
    }
   ],
   "source": [
    "%timeit muons_cuda.bremsstrahlung(kinetic_energies_gpu, recoil_energies_gpu);"
   ]
  },
  {
   "cell_type": "code",
   "execution_count": 12,
   "id": "8e479242",
   "metadata": {},
   "outputs": [
    {
     "name": "stdout",
     "output_type": "stream",
     "text": [
      "326 µs ± 3.58 µs per loop (mean ± std. dev. of 7 runs, 1000 loops each)\n"
     ]
    }
   ],
   "source": [
    "%timeit muons.bremsstrahlung(kinetic_energies, recoil_energies);"
   ]
  },
  {
   "cell_type": "markdown",
   "id": "dffd1652",
   "metadata": {},
   "source": [
    "### Pair Production\n",
    "\n",
    "```cpp\n",
    "dcs::vmap(dcs::pumas::pair_production)(\n",
    "            result, kinetic_energies, recoil_energies, STANDARD_ROCK, MUON_MASS);\n",
    "```"
   ]
  },
  {
   "cell_type": "code",
   "execution_count": 14,
   "id": "b315f6f4",
   "metadata": {},
   "outputs": [
    {
     "data": {
      "text/plain": [
       "tensor([0.0000e+00, 6.5366e-06, 7.3699e-06, 7.7919e-06, 8.0572e-06],\n",
       "       dtype=torch.float64)"
      ]
     },
     "execution_count": 14,
     "metadata": {},
     "output_type": "execute_result"
    }
   ],
   "source": [
    "ppair = muons.pair_production(kinetic_energies, recoil_energies)\n",
    "ppair[:5]"
   ]
  },
  {
   "cell_type": "markdown",
   "id": "3dbb62d6",
   "metadata": {},
   "source": [
    "### Photonuclear\n",
    "```cpp\n",
    "dcs::vmap(dcs::pumas::photonuclear)(\n",
    "            result, kinetic_energies, recoil_energies, STANDARD_ROCK, MUON_MASS);\n",
    "```"
   ]
  },
  {
   "cell_type": "code",
   "execution_count": 13,
   "id": "10023986",
   "metadata": {},
   "outputs": [
    {
     "data": {
      "text/plain": [
       "tensor([0.0000e+00, 2.2912e-06, 2.1304e-06, 2.0719e-06, 2.0427e-06],\n",
       "       dtype=torch.float64)"
      ]
     },
     "execution_count": 13,
     "metadata": {},
     "output_type": "execute_result"
    }
   ],
   "source": [
    "photonuc = muons.photonuclear(kinetic_energies, recoil_energies)\n",
    "photonuc[:5]"
   ]
  },
  {
   "cell_type": "markdown",
   "id": "96fb1e5a",
   "metadata": {},
   "source": [
    "### Ionisation\n",
    "```cpp\n",
    "dcs::vmap(dcs::pumas::ionisation)(\n",
    "            result, kinetic_energies, recoil_energies, STANDARD_ROCK, MUON_MASS);\n",
    "```"
   ]
  },
  {
   "cell_type": "code",
   "execution_count": 15,
   "id": "63eccdd0",
   "metadata": {},
   "outputs": [
    {
     "data": {
      "text/plain": [
       "tensor([0.0000e+00, 3.0168e-05, 1.5300e-05, 1.0284e-05, 7.7575e-06],\n",
       "       dtype=torch.float64)"
      ]
     },
     "execution_count": 15,
     "metadata": {},
     "output_type": "execute_result"
    }
   ],
   "source": [
    "ionis = muons.ionisation(kinetic_energies, recoil_energies)\n",
    "ionis[:5]"
   ]
  }
 ],
 "metadata": {
  "kernelspec": {
   "display_name": "Python 3",
   "language": "python",
   "name": "python3"
  },
  "language_info": {
   "codemirror_mode": {
    "name": "ipython",
    "version": 3
   },
   "file_extension": ".py",
   "mimetype": "text/x-python",
   "name": "python",
   "nbconvert_exporter": "python",
   "pygments_lexer": "ipython3",
   "version": "3.9.6"
  }
 },
 "nbformat": 4,
 "nbformat_minor": 5
}
