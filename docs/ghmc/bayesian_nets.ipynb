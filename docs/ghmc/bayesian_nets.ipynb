{
 "cells": [
  {
   "cell_type": "code",
   "execution_count": null,
   "id": "c9b7da99",
   "metadata": {},
   "outputs": [],
   "source": [
    "from torch.utils.cpp_extension import load\n",
    "import torch"
   ]
  },
  {
   "cell_type": "code",
   "execution_count": null,
   "id": "374940c9",
   "metadata": {},
   "outputs": [],
   "source": [
    "bnets = load(name='bayesian_nets',\n",
    "             sources=['bayesian_nets.cc'],\n",
    "             extra_include_paths=['../../include'],\n",
    "             extra_cflags=['-Wall -Wextra -Wpedantic -O3 -std=c++1z'],\n",
    "             verbose=True)"
   ]
  },
  {
   "cell_type": "code",
   "execution_count": null,
   "id": "bf3a215f",
   "metadata": {},
   "outputs": [],
   "source": [
    "help(bnets.run_ghmc)"
   ]
  },
  {
   "cell_type": "code",
   "execution_count": null,
   "id": "bd168741",
   "metadata": {},
   "outputs": [],
   "source": [
    "sample = bnets.run_ghmc()"
   ]
  },
  {
   "cell_type": "code",
   "execution_count": null,
   "id": "c7c96d3c",
   "metadata": {},
   "outputs": [],
   "source": [
    "torch.std_mean(sample, 0, keepdim=True)"
   ]
  }
 ],
 "metadata": {
  "kernelspec": {
   "display_name": "Python 3",
   "language": "python",
   "name": "python3"
  },
  "language_info": {
   "codemirror_mode": {
    "name": "ipython",
    "version": 3
   },
   "file_extension": ".py",
   "mimetype": "text/x-python",
   "name": "python",
   "nbconvert_exporter": "python",
   "pygments_lexer": "ipython3",
   "version": "3.9.4"
  }
 },
 "nbformat": 4,
 "nbformat_minor": 5
}
