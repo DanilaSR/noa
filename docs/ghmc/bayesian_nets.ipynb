{
 "cells": [
  {
   "cell_type": "markdown",
   "id": "0419a4cd",
   "metadata": {},
   "source": [
    "# Bayesian Neural Networks "
   ]
  },
  {
   "cell_type": "code",
   "execution_count": null,
   "id": "c9b7da99",
   "metadata": {},
   "outputs": [],
   "source": [
    "from torch.utils.cpp_extension import load\n",
    "import torch\n",
    "from torch import nn\n",
    "import matplotlib.pyplot as plt\n",
    "\n",
    "%matplotlib inline"
   ]
  },
  {
   "cell_type": "code",
   "execution_count": null,
   "id": "4a411c3b",
   "metadata": {},
   "outputs": [],
   "source": [
    "# Nice dark plotting settings\n",
    "import seaborn as sns\n",
    "sns.set_style('darkgrid',\n",
    "                {'axes.facecolor': '.2',\n",
    "                'figure.facecolor': '0.1',\n",
    "                'text.color': '.9',\n",
    "                'grid.color': '.5',\n",
    "                'xtick.color': '.9',\n",
    "                'ytick.color': '.9'})"
   ]
  },
  {
   "cell_type": "code",
   "execution_count": null,
   "id": "fbd89d3b",
   "metadata": {},
   "outputs": [],
   "source": [
    "N_tr = 6\n",
    "N_val = 300\n",
    "\n",
    "x_val = torch.linspace(-5,5,N_val).view(-1,1)\n",
    "y_val = torch.sin(x_val).view(-1,1)\n",
    "\n",
    "x_train = torch.linspace(-3.14,3.14,N_tr).view(-1,1)\n",
    "y_train = torch.sin(x_train).view(-1,1) + torch.randn_like(x_train)*0.1"
   ]
  },
  {
   "cell_type": "code",
   "execution_count": null,
   "id": "3d801881",
   "metadata": {},
   "outputs": [],
   "source": [
    "plt.figure(figsize=(10,5))\n",
    "plt.plot(x_train.numpy(),y_train.numpy(),'.',markersize=30, label='x train')\n",
    "plt.plot(x_val.numpy(),y_val.numpy(),'C1',alpha=0.9, markersize=2, label='x test')\n",
    "\n",
    "plt.legend(fontsize=20)\n",
    "plt.show()"
   ]
  },
  {
   "cell_type": "code",
   "execution_count": null,
   "id": "1e79552f",
   "metadata": {},
   "outputs": [],
   "source": [
    "class Net(torch.nn.Module):\n",
    "\n",
    "    def __init__(self):\n",
    "        super(Net, self).__init__()\n",
    "        \n",
    "        self.l1 = nn.Linear(1, 10, bias = True)\n",
    "        self.l2 = nn.Linear(10, 10, bias = True)\n",
    "        self.l3 = nn.Linear(10, 1, bias = True)\n",
    "\n",
    "    def forward(self, x):\n",
    "        x = self.l1(x)\n",
    "        x = torch.relu(x)\n",
    "        x = self.l2(x)\n",
    "        x = torch.relu(x)\n",
    "        x = self.l3(x)\n",
    "        return x\n",
    "\n",
    "net = Net()\n",
    "jit_net = torch.jit.script(net)"
   ]
  },
  {
   "cell_type": "code",
   "execution_count": null,
   "id": "374940c9",
   "metadata": {},
   "outputs": [],
   "source": [
    "bnets = load(name='bayesian_nets',\n",
    "             sources=['bayesian_nets.cc'],\n",
    "             extra_include_paths=['../../include'],\n",
    "             extra_cflags=['-Wall -Wextra -Wpedantic -O3 -std=c++1z'],\n",
    "             verbose=True)"
   ]
  },
  {
   "cell_type": "code",
   "execution_count": null,
   "id": "bf3a215f",
   "metadata": {},
   "outputs": [],
   "source": [
    "help(bnets.run_ghmc)"
   ]
  },
  {
   "cell_type": "code",
   "execution_count": null,
   "id": "bd168741",
   "metadata": {},
   "outputs": [],
   "source": [
    "sample = bnets.run_ghmc()"
   ]
  },
  {
   "cell_type": "code",
   "execution_count": null,
   "id": "c7c96d3c",
   "metadata": {},
   "outputs": [],
   "source": [
    "torch.std_mean(sample, 0, keepdim=True)"
   ]
  }
 ],
 "metadata": {
  "kernelspec": {
   "display_name": "Python 3",
   "language": "python",
   "name": "python3"
  },
  "language_info": {
   "codemirror_mode": {
    "name": "ipython",
    "version": 3
   },
   "file_extension": ".py",
   "mimetype": "text/x-python",
   "name": "python",
   "nbconvert_exporter": "python",
   "pygments_lexer": "ipython3",
   "version": "3.9.4"
  }
 },
 "nbformat": 4,
 "nbformat_minor": 5
}
