{
 "cells": [
  {
   "cell_type": "markdown",
   "id": "4bedecd3",
   "metadata": {},
   "source": [
    "# Topics in Muography \n",
    "#### Roland Grinis  -  Researcher at MIPT Nuclear Physics Methods lab  -  CTO at GrinisRIT (grinisrit.com)"
   ]
  },
  {
   "cell_type": "markdown",
   "id": "f6321405",
   "metadata": {},
   "source": [
    "Code available within NOA github.com/grinisrit/noa - Bayesian computation algorithms in C++17 over LibTorch"
   ]
  },
  {
   "cell_type": "markdown",
   "id": "bf305257",
   "metadata": {},
   "source": [
    "## Installation\n",
    "\n",
    "The `conda` environment provided with the repository has all the required dependencies. For this particular tutorial we will need the following `python` packages:"
   ]
  },
  {
   "cell_type": "code",
   "execution_count": 1,
   "id": "a8c7576f",
   "metadata": {},
   "outputs": [],
   "source": [
    "import torch\n",
    "from torch.utils.cpp_extension import load\n",
    "import matplotlib.pyplot as plt\n",
    "%matplotlib inline"
   ]
  },
  {
   "cell_type": "markdown",
   "id": "dcb0d1f5",
   "metadata": {},
   "source": [
    "If you prefer dark plots you can run:"
   ]
  },
  {
   "cell_type": "code",
   "execution_count": 2,
   "id": "5144aeb6",
   "metadata": {},
   "outputs": [],
   "source": [
    "import seaborn as sns\n",
    "sns.set_style('darkgrid',\n",
    "                {'axes.facecolor': '.2',\n",
    "                'figure.facecolor': '0.1',\n",
    "                'text.color': '.9',\n",
    "                'grid.color': '.5',\n",
    "                'xtick.color': '.9',\n",
    "                'ytick.color': '.9'})"
   ]
  },
  {
   "cell_type": "markdown",
   "id": "0f872e4b",
   "metadata": {},
   "source": [
    "Now we need to build and load `C++17/CUDA` extensions for `PyTorch`, set up the locations:"
   ]
  },
  {
   "cell_type": "code",
   "execution_count": 4,
   "id": "7339ccd7",
   "metadata": {},
   "outputs": [],
   "source": [
    "!mkdir -p build\n",
    "noa_location = '../..'"
   ]
  },
  {
   "cell_type": "markdown",
   "id": "e3474263",
   "metadata": {},
   "source": [
    "If you are running this on Google Colab, you need to clone `NOA` and set `noa_location` accordingly:\n",
    "```python\n",
    "!git clone https://github.com/grinisrit/noa.git\n",
    "noa_location = 'noa'\n",
    "```\n",
    "\n",
    "Also, make sure that `ninja` and `g++-8` or higher are available. The following commands will do that for you:\n",
    "```python\n",
    "!pip install Ninja\n",
    "!apt install gcc-8 g++-8 -y\n",
    "!update-alternatives --install /usr/bin/gcc gcc /usr/bin/gcc-8 1000\n",
    "!update-alternatives --install /usr/bin/g++ g++ /usr/bin/g++-8 1000\n",
    "!gcc --version\n",
    "!g++ --version\n",
    "!nvcc --version\n",
    "```\n",
    "Finally, you get the extensions into `python` by calling `load`:"
   ]
  },
  {
   "cell_type": "code",
   "execution_count": 5,
   "id": "8c646a2b",
   "metadata": {},
   "outputs": [],
   "source": [
    "muons = load(name='muons',\n",
    "             build_directory='./build',\n",
    "             sources=[f'{noa_location}/docs/pms/muons.cc'],\n",
    "             extra_include_paths=[f'{noa_location}/include'],\n",
    "             extra_cflags=['-Wall -Wextra -Wpedantic -O3 -std=c++17'],\n",
    "             extra_ldflags=['-lstdc++fs'],\n",
    "             verbose=False)"
   ]
  },
  {
   "cell_type": "code",
   "execution_count": 6,
   "id": "2328bbdc",
   "metadata": {},
   "outputs": [],
   "source": [
    "muons_cuda = load(name='muons_cuda',\n",
    "             build_directory='./build',       \n",
    "             sources=[f'{noa_location}/docs/pms/muons.cu'],\n",
    "             extra_include_paths=[f'{noa_location}/include'],\n",
    "             extra_cflags=['-Wall -Wextra -Wpedantic -O3 -std=c++17'],\n",
    "             extra_cuda_cflags=['-std=c++17 --extended-lambda'],\n",
    "             extra_ldflags=['-lstdc++fs'],\n",
    "             verbose=False) if torch.cuda.is_available() else None"
   ]
  },
  {
   "cell_type": "markdown",
   "id": "56dd8394",
   "metadata": {},
   "source": [
    "## Differential Cross-Sections calculations"
   ]
  },
  {
   "cell_type": "code",
   "execution_count": 7,
   "id": "52324801",
   "metadata": {},
   "outputs": [],
   "source": [
    "kinetic_energies = torch.linspace(1e-3, 1e6, 10000).double()\n",
    "recoil_energies = 0.0505 * kinetic_energies"
   ]
  },
  {
   "cell_type": "code",
   "execution_count": 8,
   "id": "126f1ed4",
   "metadata": {},
   "outputs": [],
   "source": [
    "kinetic_energies_gpu = kinetic_energies.cuda()\n",
    "recoil_energies_gpu = recoil_energies.cuda()"
   ]
  },
  {
   "cell_type": "code",
   "execution_count": 9,
   "id": "fd928905",
   "metadata": {},
   "outputs": [
    {
     "data": {
      "text/plain": [
       "tensor([1.0000e-03, 1.0001e+02, 2.0002e+02, 3.0003e+02, 4.0004e+02],\n",
       "       device='cuda:0', dtype=torch.float64)"
      ]
     },
     "execution_count": 9,
     "metadata": {},
     "output_type": "execute_result"
    }
   ],
   "source": [
    "kinetic_energies_gpu[:5]"
   ]
  },
  {
   "cell_type": "code",
   "execution_count": 11,
   "id": "f13096c8",
   "metadata": {},
   "outputs": [
    {
     "data": {
      "text/plain": [
       "tensor([3.5293e-04, 3.9395e-06, 4.0777e-06, 4.1341e-06, 4.1650e-06],\n",
       "       dtype=torch.float64)"
      ]
     },
     "execution_count": 11,
     "metadata": {},
     "output_type": "execute_result"
    }
   ],
   "source": [
    "brems = muons.bremsstrahlung(kinetic_energies, recoil_energies)\n",
    "brems[:5]"
   ]
  },
  {
   "cell_type": "code",
   "execution_count": 12,
   "id": "1039c8d9",
   "metadata": {},
   "outputs": [
    {
     "data": {
      "text/plain": [
       "tensor([3.5293e-04, 3.9395e-06, 4.0777e-06, 4.1341e-06, 4.1650e-06],\n",
       "       device='cuda:0', dtype=torch.float64)"
      ]
     },
     "execution_count": 12,
     "metadata": {},
     "output_type": "execute_result"
    }
   ],
   "source": [
    "brems_gpu = muons_cuda.bremsstrahlung(kinetic_energies_gpu, recoil_energies_gpu);\n",
    "brems_gpu[:5]"
   ]
  },
  {
   "cell_type": "code",
   "execution_count": 16,
   "id": "4a847507",
   "metadata": {},
   "outputs": [
    {
     "data": {
      "text/plain": [
       "tensor(3.2179e-18, dtype=torch.float64)"
      ]
     },
     "execution_count": 16,
     "metadata": {},
     "output_type": "execute_result"
    }
   ],
   "source": [
    "(brems - brems_gpu.cpu()).abs().sum()"
   ]
  },
  {
   "cell_type": "code",
   "execution_count": 14,
   "id": "8845ef06",
   "metadata": {},
   "outputs": [
    {
     "name": "stdout",
     "output_type": "stream",
     "text": [
      "151 µs ± 5.64 µs per loop (mean ± std. dev. of 7 runs, 10000 loops each)\n"
     ]
    }
   ],
   "source": [
    "%timeit muons_cuda.bremsstrahlung(kinetic_energies_gpu, recoil_energies_gpu);"
   ]
  },
  {
   "cell_type": "code",
   "execution_count": 15,
   "id": "8e479242",
   "metadata": {},
   "outputs": [
    {
     "name": "stdout",
     "output_type": "stream",
     "text": [
      "285 µs ± 3.4 µs per loop (mean ± std. dev. of 7 runs, 1000 loops each)\n"
     ]
    }
   ],
   "source": [
    "%timeit muons.bremsstrahlung(kinetic_energies, recoil_energies);"
   ]
  }
 ],
 "metadata": {
  "kernelspec": {
   "display_name": "Python 3",
   "language": "python",
   "name": "python3"
  },
  "language_info": {
   "codemirror_mode": {
    "name": "ipython",
    "version": 3
   },
   "file_extension": ".py",
   "mimetype": "text/x-python",
   "name": "python",
   "nbconvert_exporter": "python",
   "pygments_lexer": "ipython3",
   "version": "3.9.5"
  }
 },
 "nbformat": 4,
 "nbformat_minor": 5
}
